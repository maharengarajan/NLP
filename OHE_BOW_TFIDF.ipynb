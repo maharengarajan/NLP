{
  "nbformat": 4,
  "nbformat_minor": 0,
  "metadata": {
    "colab": {
      "provenance": []
    },
    "kernelspec": {
      "name": "python3",
      "display_name": "Python 3"
    },
    "language_info": {
      "name": "python"
    }
  },
  "cells": [
    {
      "cell_type": "code",
      "source": [
        "from sklearn.preprocessing import OneHotEncoder\n",
        "import numpy as np\n",
        "import nltk\n",
        "\n",
        "sentence = 'a man eat food'\n",
        "\n",
        "# Tokenization\n",
        "data = nltk.word_tokenize(sentence)\n",
        "\n",
        "# Reshape the data because OneHotEncoder expects a 2D array\n",
        "data_reshaped = np.array(data).reshape(-1, 1)\n",
        "\n",
        "# Initialize and fit the encoder\n",
        "enc = OneHotEncoder()\n",
        "enc.fit(data_reshaped)\n",
        "\n",
        "# Transform the data\n",
        "encoded_data = enc.transform(data_reshaped).toarray()\n",
        "\n",
        "print(encoded_data)\n"
      ],
      "metadata": {
        "colab": {
          "base_uri": "https://localhost:8080/"
        },
        "id": "XmlOeHsTSWT6",
        "outputId": "4b2aa927-61a5-4cff-dfeb-24d84674c39b"
      },
      "execution_count": 1,
      "outputs": [
        {
          "output_type": "stream",
          "name": "stdout",
          "text": [
            "[[1. 0. 0. 0.]\n",
            " [0. 0. 0. 1.]\n",
            " [0. 1. 0. 0.]\n",
            " [0. 0. 1. 0.]]\n"
          ]
        }
      ]
    },
    {
      "cell_type": "code",
      "source": [
        "from sklearn.feature_extraction.text import CountVectorizer\n",
        "cv=CountVectorizer()\n",
        "\n",
        "data=[\"good boy\", 'good girl', 'boy girl good']\n",
        "\n",
        "# applied BOW\n",
        "cv_encoded_data = cv.fit_transform(data).toarray()\n",
        "print(cv_encoded_data)"
      ],
      "metadata": {
        "colab": {
          "base_uri": "https://localhost:8080/"
        },
        "id": "HnW0cNkeWiAC",
        "outputId": "2624ed12-33e5-44f5-85f3-295d22b6f9ad"
      },
      "execution_count": 2,
      "outputs": [
        {
          "output_type": "stream",
          "name": "stdout",
          "text": [
            "[[1 0 1]\n",
            " [0 1 1]\n",
            " [1 1 1]]\n"
          ]
        }
      ]
    },
    {
      "cell_type": "code",
      "source": [
        "from sklearn.feature_extraction.text import TfidfVectorizer\n",
        "tf_idf=TfidfVectorizer()\n",
        "\n",
        "data_ = [\"good boy\", 'good girl', 'boy girl good']\n",
        "\n",
        "tfidf = tf_idf.fit_transform(data_).toarray()\n",
        "print(tfidf)"
      ],
      "metadata": {
        "colab": {
          "base_uri": "https://localhost:8080/"
        },
        "id": "cnawba_XYaAT",
        "outputId": "1f84cd1e-faff-42e7-8b55-c24e2af96954"
      },
      "execution_count": 1,
      "outputs": [
        {
          "output_type": "stream",
          "name": "stdout",
          "text": [
            "[[0.78980693 0.         0.61335554]\n",
            " [0.         0.78980693 0.61335554]\n",
            " [0.61980538 0.61980538 0.48133417]]\n"
          ]
        }
      ]
    },
    {
      "cell_type": "code",
      "source": [
        "from sklearn.feature_extraction.text import TfidfVectorizer\n",
        "\n",
        "data_ = [\"good boy\", 'good girl', 'boy girl good']\n",
        "\n",
        "# Initialize TF-IDF vectorizer\n",
        "tfidf_vectorizer = TfidfVectorizer()\n",
        "\n",
        "# Fit and transform the data\n",
        "tfidf_matrix = tfidf_vectorizer.fit_transform(data_)\n",
        "\n",
        "# Get feature names\n",
        "feature_names = tfidf_vectorizer.get_feature_names_out()\n",
        "\n",
        "# Convert TF-IDF matrix to array\n",
        "tfidf_array = tfidf_matrix.toarray()\n",
        "\n",
        "# Print feature names and corresponding TF-IDF values\n",
        "for i, doc in enumerate(data_):\n",
        "    print(f\"Document {i+1}:\")\n",
        "    for j, feature in enumerate(feature_names):\n",
        "        print(f\"{feature}: {tfidf_array[i][j]}\")\n"
      ],
      "metadata": {
        "colab": {
          "base_uri": "https://localhost:8080/"
        },
        "id": "D4_L2oxJOw6b",
        "outputId": "ba568300-c02d-4dfd-d815-50d0f7f56acc"
      },
      "execution_count": 2,
      "outputs": [
        {
          "output_type": "stream",
          "name": "stdout",
          "text": [
            "Document 1:\n",
            "boy: 0.7898069290660905\n",
            "girl: 0.0\n",
            "good: 0.6133555370249717\n",
            "Document 2:\n",
            "boy: 0.0\n",
            "girl: 0.7898069290660905\n",
            "good: 0.6133555370249717\n",
            "Document 3:\n",
            "boy: 0.6198053799406072\n",
            "girl: 0.6198053799406072\n",
            "good: 0.48133416873660545\n"
          ]
        }
      ]
    },
    {
      "cell_type": "code",
      "source": [],
      "metadata": {
        "id": "YGl8ypNWPZ1e"
      },
      "execution_count": null,
      "outputs": []
    }
  ]
}